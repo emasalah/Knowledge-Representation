{
 "cells": [
  {
   "cell_type": "code",
   "execution_count": 1,
   "metadata": {},
   "outputs": [
    {
     "ename": "IndentationError",
     "evalue": "unexpected indent (<ipython-input-1-02326bd66682>, line 5)",
     "output_type": "error",
     "traceback": [
      "\u001b[1;36m  File \u001b[1;32m\"<ipython-input-1-02326bd66682>\"\u001b[1;36m, line \u001b[1;32m5\u001b[0m\n\u001b[1;33m    clauses.append(aima.utils.expr(\"( reads(Maria,logicprogramming )& author(peter_lucas) )\")\u001b[0m\n\u001b[1;37m    ^\u001b[0m\n\u001b[1;31mIndentationError\u001b[0m\u001b[1;31m:\u001b[0m unexpected indent\n"
     ]
    }
   ],
   "source": [
    "import aima.utils \n",
    "import aima.logic\n",
    "def main():       \n",
    "    clauses = []     \n",
    "    clauses.append(aima.utils.expr(\"( reads(Maria,logicprogramming )& author(peter_lucas) )\")\n",
    "                    \n",
    "    clauses.append(aima.utils.expr(\"like(anyone, shopping)\")\n",
    "                    \n",
    "    clauses.append(aima.utils.expr(\"(city(big,crowdy) ==> hates(kirke,city)\")  \n",
    "        \n",
    "    KB = aima.logic.FolKB(clauses) \n",
    "                    \n",
    "    like_shopping = aima.logic.fol_fc_ask(KB, aima.utils.expr('shopping(x)')) \n",
    "    print('like_shopping ')\n",
    "    print(like_shopping )"
   ]
  },
  {
   "cell_type": "code",
   "execution_count": null,
   "metadata": {},
   "outputs": [],
   "source": [
    " "
   ]
  }
 ],
 "metadata": {
  "kernelspec": {
   "display_name": "Python 3",
   "language": "python",
   "name": "python3"
  },
  "language_info": {
   "codemirror_mode": {
    "name": "ipython",
    "version": 3
   },
   "file_extension": ".py",
   "mimetype": "text/x-python",
   "name": "python",
   "nbconvert_exporter": "python",
   "pygments_lexer": "ipython3",
   "version": "3.7.6"
  }
 },
 "nbformat": 4,
 "nbformat_minor": 4
}
