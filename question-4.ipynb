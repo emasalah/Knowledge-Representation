{
 "cells": [
  {
   "cell_type": "code",
   "execution_count": 3,
   "metadata": {},
   "outputs": [
    {
     "ename": "SyntaxError",
     "evalue": "invalid syntax (<ipython-input-3-c5967301af05>, line 8)",
     "output_type": "error",
     "traceback": [
      "\u001b[1;36m  File \u001b[1;32m\"<ipython-input-3-c5967301af05>\"\u001b[1;36m, line \u001b[1;32m8\u001b[0m\n\u001b[1;33m    clauses.append(aima.utils.expr(\"(healthy(anyone)& wealthy(anyone)) ==> traveler(anyone) \")\u001b[0m\n\u001b[1;37m          ^\u001b[0m\n\u001b[1;31mSyntaxError\u001b[0m\u001b[1;31m:\u001b[0m invalid syntax\n"
     ]
    }
   ],
   "source": [
    "import aima.utils\n",
    "import aima.logic\n",
    "def main():    \n",
    "    \n",
    "    clauses = []   \n",
    "    clauses.append(aima.utils.expr(\"(woman(jia) & man(john) & healthy( john) & healthy( jia) &  wealthy( john)) \") \n",
    "                   \n",
    "    clauses.append(aima.utils.expr(\"(healthy(anyone)& wealthy(anyone)) ==> traveler(anyone) \") \n",
    "       \n",
    "    clauses.append(aima.utils.expr(\"traveler(anyone) ==> travel(anyone)\")  \n",
    "   \n",
    "\n",
    "    KB = aima.logic.FolKB(clauses)  \n",
    " \n",
    "    \n",
    "    # Get information from the knowledge base with ask   \n",
    "    travel = KB.ask(aima.utils.expr('travel(x)'))    \n",
    "    healthy_and_wealthy= KB.ask(aima.utils.expr('healthy(x) &  wealthy(x)')\n",
    "                                \n",
    "     print('travel')\n",
    "     print(travel) \n",
    "     print('healthy_and_wealthy') \n",
    "     print( healthy_and_wealthy)                            \n",
    " "
   ]
  },
  {
   "cell_type": "code",
   "execution_count": null,
   "metadata": {},
   "outputs": [],
   "source": [
    " \n",
    " \n",
    " "
   ]
  },
  {
   "cell_type": "code",
   "execution_count": null,
   "metadata": {},
   "outputs": [],
   "source": []
  }
 ],
 "metadata": {
  "kernelspec": {
   "display_name": "Python 3",
   "language": "python",
   "name": "python3"
  },
  "language_info": {
   "codemirror_mode": {
    "name": "ipython",
    "version": 3
   },
   "file_extension": ".py",
   "mimetype": "text/x-python",
   "name": "python",
   "nbconvert_exporter": "python",
   "pygments_lexer": "ipython3",
   "version": "3.7.6"
  }
 },
 "nbformat": 4,
 "nbformat_minor": 4
}
