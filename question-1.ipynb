{
 "cells": [
  {
   "cell_type": "code",
   "execution_count": 4,
   "metadata": {},
   "outputs": [
    {
     "ename": "ModuleNotFoundError",
     "evalue": "No module named 'logic'",
     "output_type": "error",
     "traceback": [
      "\u001b[1;31m---------------------------------------------------------------------------\u001b[0m",
      "\u001b[1;31mModuleNotFoundError\u001b[0m                       Traceback (most recent call last)",
      "\u001b[1;32m<ipython-input-4-8690e59da3b2>\u001b[0m in \u001b[0;36m<module>\u001b[1;34m\u001b[0m\n\u001b[1;32m----> 1\u001b[1;33m \u001b[1;32mfrom\u001b[0m \u001b[0mlogic\u001b[0m \u001b[1;32mimport\u001b[0m \u001b[1;33m*\u001b[0m\u001b[1;33m\u001b[0m\u001b[1;33m\u001b[0m\u001b[0m\n\u001b[0m\u001b[0;32m      2\u001b[0m \u001b[1;33m\u001b[0m\u001b[0m\n\u001b[0;32m      3\u001b[0m \u001b[0mcarrots\u001b[0m\u001b[1;33m=\u001b[0m\u001b[0mSymbol\u001b[0m \u001b[1;33m(\u001b[0m\u001b[1;34m\"carrots\"\u001b[0m\u001b[1;33m)\u001b[0m\u001b[1;33m\u001b[0m\u001b[1;33m\u001b[0m\u001b[0m\n\u001b[0;32m      4\u001b[0m \u001b[0morange\u001b[0m \u001b[1;33m=\u001b[0m\u001b[0mSymbal\u001b[0m\u001b[1;33m(\u001b[0m\u001b[1;34m\"orange\"\u001b[0m\u001b[1;33m)\u001b[0m\u001b[1;33m\u001b[0m\u001b[1;33m\u001b[0m\u001b[0m\n\u001b[0;32m      5\u001b[0m \u001b[1;33m\u001b[0m\u001b[0m\n",
      "\u001b[1;31mModuleNotFoundError\u001b[0m: No module named 'logic'"
     ]
    }
   ],
   "source": [
    "from logic import *\n",
    "\n",
    "carrots=Symbol (\"carrots\")\n",
    "orange =Symbal(\"orange\")\n",
    "\n",
    "knowledge=And(Implication(carrots,orange))\n",
    "\n",
    "\n",
    "print (knowledge.formula())"
   ]
  },
  {
   "cell_type": "code",
   "execution_count": 3,
   "metadata": {},
   "outputs": [
    {
     "ename": "IndentationError",
     "evalue": "unexpected indent (<ipython-input-3-2d0655e0d909>, line 3)",
     "output_type": "error",
     "traceback": [
      "\u001b[1;36m  File \u001b[1;32m\"<ipython-input-3-2d0655e0d909>\"\u001b[1;36m, line \u001b[1;32m3\u001b[0m\n\u001b[1;33m    def main():\u001b[0m\n\u001b[1;37m    ^\u001b[0m\n\u001b[1;31mIndentationError\u001b[0m\u001b[1;31m:\u001b[0m unexpected indent\n"
     ]
    }
   ],
   "source": [
    "import aima.utils \n",
    "import aima.logic \n",
    " def main(): \n",
    "     \n",
    "    clauses = []   \n",
    "    clauses.append(aima.utils.expr(\"color(carrots, orange)\") \n",
    "    clauses.append(aima.utils.expr(\"(vegetarian(Person) ==> likes(Person, carrots) )\") \n",
    "    clauses.append(aima.utils.expr(\"study_hard(Student) ==> pass(Student) )\n",
    "    clauses.append(aima.utils.expr(\"teaches(professor, Course)\")                             \n",
    "    clauses.append(aima.utils.expr(\"enemies(X, Y)  ==> ( hates(X, Y)& fights(X, Y))\")  \n",
    "                   \n",
    "    KB = aima.logic.FolKB(clauses) \n",
    "    who_teaches = aima.logic.fol_fc_ask(KB, aima.utils.expr('teaches(x)'))                \n",
    "    who_pass = aima.logic.fol_fc_ask(KB, aima.utils.expr('pass(x)')) \n",
    "    print('who_pass ')\n",
    "    print(who_pass )\n",
    "    print('who_teaches ')\n",
    "    print(who_teaches )              \n",
    "                   "
   ]
  },
  {
   "cell_type": "code",
   "execution_count": null,
   "metadata": {},
   "outputs": [],
   "source": []
  },
  {
   "cell_type": "code",
   "execution_count": null,
   "metadata": {},
   "outputs": [],
   "source": []
  }
 ],
 "metadata": {
  "kernelspec": {
   "display_name": "Python 3",
   "language": "python",
   "name": "python3"
  },
  "language_info": {
   "codemirror_mode": {
    "name": "ipython",
    "version": 3
   },
   "file_extension": ".py",
   "mimetype": "text/x-python",
   "name": "python",
   "nbconvert_exporter": "python",
   "pygments_lexer": "ipython3",
   "version": "3.7.6"
  }
 },
 "nbformat": 4,
 "nbformat_minor": 4
}
